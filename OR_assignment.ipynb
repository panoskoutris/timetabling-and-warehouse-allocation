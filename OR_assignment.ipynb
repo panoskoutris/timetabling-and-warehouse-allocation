{
 "cells": [
  {
   "cell_type": "markdown",
   "id": "b4a3de6d-d573-4f26-bc63-60cc58bdfaea",
   "metadata": {},
   "source": [
    "### Εργασία: Επιχειρησιακή Έρευνα\n",
    "\n",
    "**Ονοματεπώνυμο:** Παναγιώτης Κούτρης  \n",
    "**ΑΕΜ:** 10671"
   ]
  },
  {
   "cell_type": "code",
   "execution_count": 101,
   "id": "3137c119-8d07-4b7f-8d77-fa367b013b26",
   "metadata": {},
   "outputs": [],
   "source": [
    "import gurobipy as gp\n",
    "from gurobipy import GRB"
   ]
  },
  {
   "cell_type": "markdown",
   "id": "2630e073-d8d4-4eb9-9ef5-b4838ff3d77a",
   "metadata": {
    "jp-MarkdownHeadingCollapsed": true
   },
   "source": [
    "### Σχεδιασμός Εβδομαδιαίου Προγράμματος Μαθημάτων\n",
    "\n",
    "Λύνουμε ένα πρόβλημα εβδομαδιαίου προγραμματισμού μαθημάτων για δύο σχολικές τάξεις, ώστε να ικανοποιούνται οι απαιτήσεις ωρών κάθε μαθήματος και οι περιορισμοί διαθεσιμότητας. \n",
    "\n",
    "Χρησιμοποιούμε γραμμικό ακέραιο προγραμματισμό με το Gurobi για να βρούμε ένα έγκυρο εβδομαδιαίο πρόγραμμα."
   ]
  },
  {
   "cell_type": "markdown",
   "id": "102eebd1-258e-484c-8d51-8f7d000c3779",
   "metadata": {},
   "source": [
    "### Δημιουργία Μοντέλου\n",
    "\n",
    "Ξεκινάμε δημιουργώντας το Gurobi μοντέλο."
   ]
  },
  {
   "cell_type": "code",
   "execution_count": 52,
   "id": "69208408-3fc0-4ec6-8167-fd0ebd9b5385",
   "metadata": {},
   "outputs": [],
   "source": [
    "model = gp.Model(\"WeeklyTimetable\")"
   ]
  },
  {
   "cell_type": "markdown",
   "id": "54a569e5-ce8f-41ec-8f10-8a6293a51e77",
   "metadata": {},
   "source": [
    "### Σύνολα\n",
    "\n",
    "Ορίζουμε τα δύο τμήματα (class 1 και class 2) και τις 20 διαθέσιμες χρονικές ζώνες (5 ημέρες × 4 περίοδοι)"
   ]
  },
  {
   "cell_type": "code",
   "execution_count": 53,
   "id": "71236c24-5e70-449a-94e9-dd4d182aa9d7",
   "metadata": {},
   "outputs": [],
   "source": [
    "classes = [1, 2]\n",
    "slots = list(range(20))"
   ]
  },
  {
   "cell_type": "markdown",
   "id": "6910c229-fb24-4afc-bf49-289e9ab2f21f",
   "metadata": {},
   "source": [
    "### Αντιστοίχιση Χρονικής Ζώνης σε Ημέρα και Περίοδο\n",
    "\n",
    "Χρησιμοποιούμε δύο λεξικά:\n",
    "\n",
    "- `slot_day[i]`: επιστρέφει σε ποια ημέρα (0=Δευτέρα, ..., 4=Παρασκευή) ανήκει το slot `i`\n",
    "- `slot_period[i]`: επιστρέφει τη χρονική περίοδο της ημέρας (0=08:00–10:00, ..., 3=16:15–18:15)\n",
    "\n",
    "Αυτό μας επιτρέπει να ομαδοποιούμε ή να περιορίζουμε μαθήματα με βάση τη μέρα και την ώρα"
   ]
  },
  {
   "cell_type": "code",
   "execution_count": 54,
   "id": "83601087-26d0-43e7-baeb-549b10f3cc47",
   "metadata": {},
   "outputs": [],
   "source": [
    "slot_day = {i: i // 4 for i in slots}\n",
    "slot_period = {i: i % 4 for i in slots}"
   ]
  },
  {
   "cell_type": "markdown",
   "id": "766eee34-00c2-448d-a766-d6c693b8c082",
   "metadata": {},
   "source": [
    "### Μαθήματα\n",
    "\n",
    "Ορίζουμε τα μαθήματα με μοναδικό αριθμό και το όνομα του καθηγητή."
   ]
  },
  {
   "cell_type": "code",
   "execution_count": 55,
   "id": "9919ee93-ac07-4952-a75c-0cc545083233",
   "metadata": {},
   "outputs": [],
   "source": [
    "courses = {\n",
    "    0: (\"English\", \"Gesmanidis\"),\n",
    "    1: (\"Biology\", \"Insoulina\"),\n",
    "    2: (\"History-Geography\", \"Hartoula\"),\n",
    "    3: (\"Math_class1\", \"Antiparagwgos\"),\n",
    "    4: (\"Math_class2\", \"Lathopraxis\"),\n",
    "    5: (\"Physics\", \"Kirkofidou\"),\n",
    "    6: (\"Philosophy\", \"Platizwn\"),\n",
    "    7: (\"PE_class1\", \"Bratsakis\"),\n",
    "    8: (\"PE_class2\", \"Trexalitoula\")\n",
    "}"
   ]
  },
  {
   "cell_type": "markdown",
   "id": "4a64a13f-fff1-40c2-8ca2-20de8c4f806a",
   "metadata": {},
   "source": [
    "### Μεταβλητές Απόφασης\n",
    "\n",
    "Ορίζουμε δυαδικές μεταβλητές $D[s, c, t]$ που είναι 1 αν το μάθημα (course) $c$ διδάσκεται στην τάξη $s$ στη χρονική στιγμή $t$"
   ]
  },
  {
   "cell_type": "code",
   "execution_count": 56,
   "id": "9d2c662a-7a20-400d-98db-8f390614d587",
   "metadata": {},
   "outputs": [],
   "source": [
    "D = model.addVars(\n",
    "    classes,\n",
    "    courses.keys(),\n",
    "    slots,\n",
    "    vtype=GRB.BINARY,\n",
    "    name=\"D\"\n",
    ")"
   ]
  },
  {
   "cell_type": "markdown",
   "id": "16bf4902-db88-4dcc-a5c8-2da254dbc782",
   "metadata": {},
   "source": [
    "### Απαιτούμενες Ώρες Ανά Μάθημα\n",
    "\n",
    "Ορίζουμε πόσες φορές (δίωρα) πρέπει να διδάσκεται κάθε μάθημα ανά τάξη κατά τη διάρκεια της εβδομάδας"
   ]
  },
  {
   "cell_type": "code",
   "execution_count": 57,
   "id": "77404470-59bb-494b-bce5-29d06ec8bc14",
   "metadata": {},
   "outputs": [],
   "source": [
    "# (class, course): 2_hour_sessions\n",
    "required_hours = {\n",
    "    (1, 0): 1,\n",
    "    (2, 0): 1,\n",
    "    (1, 1): 3,\n",
    "    (2, 1): 3,\n",
    "    (1, 2): 2,\n",
    "    (2, 2): 2,\n",
    "    (1, 3): 4,\n",
    "    (2, 4): 4,\n",
    "    (1, 5): 3,\n",
    "    (2, 5): 3,\n",
    "    (1, 6): 1,\n",
    "    (2, 6): 1,\n",
    "    (1, 7): 1,\n",
    "    (2, 8): 1\n",
    "}"
   ]
  },
  {
   "cell_type": "markdown",
   "id": "5ee3bc64-b915-449e-a20f-a3c55fed64ca",
   "metadata": {},
   "source": [
    "### Περιορισμός: Ένα Μάθημα Ανά Χρονική Ζώνη\n",
    "\n",
    "Κάθε class μπορεί να έχει το πολύ ένα μάθημα σε κάθε χρονική ζώνη (slot).\n"
   ]
  },
  {
   "cell_type": "code",
   "execution_count": 58,
   "id": "9f9c7a45-c3d2-4ac5-802d-882985ad68a8",
   "metadata": {},
   "outputs": [],
   "source": [
    "for s in classes:\n",
    "    for t in slots:\n",
    "        model.addConstr(gp.quicksum(D[s, c, t] for c in courses.keys()) <= 1,\n",
    "                        name=f\"OneCoursePerSlot_class{s}_slot{t}\")"
   ]
  },
  {
   "cell_type": "markdown",
   "id": "d1579c84-368a-44d5-8e23-2b9f051e96e5",
   "metadata": {},
   "source": [
    "### Περιορισμός: Συνολικές Ώρες\n",
    "\n",
    "Κάθε μάθημα πρέπει να διδάσκεται ακριβώς όσες φορές απαιτείται για κάθε class.\n"
   ]
  },
  {
   "cell_type": "code",
   "execution_count": 59,
   "id": "aca787c9-b152-40f9-99a7-b60b8bf93813",
   "metadata": {},
   "outputs": [],
   "source": [
    "for (s, c), hours in required_hours.items():\n",
    "    model.addConstr(gp.quicksum(D[s, c, t] for t in slots) == hours, name=f\"Required_class{s}_course{c}\")"
   ]
  },
  {
   "cell_type": "markdown",
   "id": "3e7290a5-b85a-4fed-a588-c078931e665b",
   "metadata": {},
   "source": [
    "### Περιορισμός: Όχι Ίδιο Μάθημα Πάνω από Μία Φορά Την Ίδια Ημέρα\n",
    "\n",
    "Για κάθε μάθημα και κάθε class, δεν επιτρέπεται να προγραμματιστεί πάνω από μία φορά την ίδια ημέρα. Αυτό αποτρέπει την επανάληψη του ίδιου μαθήματος σε συνεχόμενες ή διαφορετικές ζώνες της ίδιας ημέρας."
   ]
  },
  {
   "cell_type": "code",
   "execution_count": 60,
   "id": "c18bb468-4196-4bbb-b285-5ebdc42f096a",
   "metadata": {},
   "outputs": [],
   "source": [
    "for s in classes:\n",
    "    for c in courses.keys():\n",
    "        for day in range(5):  # Days 0 to 4\n",
    "            daily_slots = [t for t in slots if slot_day[t] == day]\n",
    "            model.addConstr(gp.quicksum(D[s, c, t] for t in daily_slots) <= 1,\n",
    "                            name=f\"NoRepeat_class{s}_course{c}_day{day}\")"
   ]
  },
  {
   "cell_type": "markdown",
   "id": "2018809c-2994-4f5e-9fb2-0848c796beec",
   "metadata": {},
   "source": [
    "### Περιορισμοί Διαθεσιμότητας\n",
    "\n",
    "Ορίζουμε χρονικές ζώνες που δεν επιτρέπεται να προγραμματιστεί κάποιο μάθημα λόγω απουσίας καθηγητών ή άλλων περιορισμών:\n",
    "\n",
    "- Η πρώτη ζώνη της Δευτέρας (slot 0) είναι δεσμευμένη\n",
    "- Η κα Ινσουλίνα (Biology) δεν διδάσκει Τετάρτη (day 2)\n",
    "- Ο κος Λαθοπράξης (Math για την class 2) δεν διδάσκει Δευτέρα πρωί (slot 0 και slot 1)"
   ]
  },
  {
   "cell_type": "code",
   "execution_count": 61,
   "id": "64d078d8-01fa-492a-8e82-98fe96dd5d02",
   "metadata": {},
   "outputs": [],
   "source": [
    "for s in classes:\n",
    "    for c in courses.keys():\n",
    "        model.addConstr(D[s, c, 0] == 0, name=f\"NoMondayMorning_class{s}_course{c}\")\n",
    "\n",
    "biology_id = 1\n",
    "for s in classes:\n",
    "    for t in slots:\n",
    "        if slot_day[t] == 2:\n",
    "            model.addConstr(D[s, biology_id, t] == 0, name=f\"NoInsoulinaWed_class{s}_slot{t}\")\n",
    "\n",
    "math_class2_id = 4\n",
    "for t in [0, 1]:  \n",
    "    model.addConstr(D[2, math_class2_id, t] == 0, name=f\"NoLathopraxisMonMorning_slot{t}\")\n"
   ]
  },
  {
   "cell_type": "markdown",
   "id": "0e7d267c-c8f2-4a5d-8924-f5c64bb621b8",
   "metadata": {},
   "source": [
    "### Περιορισμός: Φυσική Αγωγή Μόνο Πέμπτη 14:00–16:00\n",
    "\n",
    "Η Φυσική Αγωγή πρέπει να διδάσκεται μόνο την Πέμπτη, στη ζώνη 14:00–16:00 (slot 14). Σε όλα τα υπόλοιπα slots απαγορεύεται.\n"
   ]
  },
  {
   "cell_type": "code",
   "execution_count": 62,
   "id": "70c4d273-affe-4886-9ccb-37b55d7afcdc",
   "metadata": {},
   "outputs": [],
   "source": [
    "model.addConstr(D[1, 7, 14] == 1, name=\"PE_class1_at_slot14\")\n",
    "model.addConstr(D[2, 8, 14] == 1, name=\"PE_class2_at_slot14\")\n",
    "\n",
    "for t in slots:\n",
    "    if t != 14:\n",
    "        model.addConstr(D[1, 7, t] == 0, name=f\"NoPE_class1_slot{t}\")\n",
    "        model.addConstr(D[2, 8, t] == 0, name=f\"NoPE_class2_slot{t}\")"
   ]
  },
  {
   "cell_type": "markdown",
   "id": "61cf0258-d03d-4a8f-9504-935861bacadb",
   "metadata": {},
   "source": [
    "### Περιορισμός: Κοινός Καθηγητής Δεν Διδάσκει Ταυτόχρονα Και Στις Δύο Classes\n",
    "\n",
    "Για κάθε slot, αν ένας καθηγητής διδάσκει και στις δύο classes, δεν επιτρέπεται να έχει μάθημα σε αυτές ταυτόχρονα."
   ]
  },
  {
   "cell_type": "code",
   "execution_count": 63,
   "id": "f238ca7e-d658-494d-819c-aee6aa2fadb8",
   "metadata": {},
   "outputs": [],
   "source": [
    "for t in slots:\n",
    "    for teacher in set(teacher for _, teacher in courses.values()):\n",
    "        course_ids = [c for c, (_, prof) in courses.items() if prof == teacher]\n",
    "        model.addConstr(\n",
    "            gp.quicksum(D[s, c, t] for s in classes for c in course_ids if (s, c) in required_hours) <= 1,\n",
    "            name=f\"NoTeacherOverlap_{teacher}_slot{t}\"\n",
    "        )"
   ]
  },
  {
   "cell_type": "markdown",
   "id": "89c94f77-da3b-489d-9f30-fe9e964fb53c",
   "metadata": {},
   "source": [
    "### Επίλυση Μοντέλου και Εμφάνιση Αποτελέσματος\n",
    "\n",
    "Κάνουμε optimize το μοντέλο. Αν βρεθεί εφικτή λύση, εμφανίζουμε το πρόγραμμα για κάθε class."
   ]
  },
  {
   "cell_type": "code",
   "execution_count": 64,
   "id": "da949623-a9ca-493f-b3c5-871f0d962135",
   "metadata": {},
   "outputs": [
    {
     "name": "stdout",
     "output_type": "stream",
     "text": [
      "Gurobi Optimizer version 12.0.2 build v12.0.2rc0 (win64 - Windows 11.0 (26100.2))\n",
      "\n",
      "CPU model: 13th Gen Intel(R) Core(TM) i9-13900H, instruction set [SSE2|AVX|AVX2]\n",
      "Thread count: 14 physical cores, 20 logical processors, using up to 20 threads\n",
      "\n",
      "Optimize a model with 392 rows, 360 columns and 1348 nonzeros\n",
      "Model fingerprint: 0xcdd5f19b\n",
      "Variable types: 0 continuous, 360 integer (360 binary)\n",
      "Coefficient statistics:\n",
      "  Matrix range     [1e+00, 1e+00]\n",
      "  Objective range  [0e+00, 0e+00]\n",
      "  Bounds range     [1e+00, 1e+00]\n",
      "  RHS range        [1e+00, 4e+00]\n",
      "Found heuristic solution: objective 0.0000000\n",
      "\n",
      "Explored 0 nodes (0 simplex iterations) in 0.01 seconds (0.00 work units)\n",
      "Thread count was 1 (of 20 available processors)\n",
      "\n",
      "Solution count 1: 0 \n",
      "\n",
      "Optimal solution found (tolerance 1.00e-04)\n",
      "Best objective 0.000000000000e+00, best bound 0.000000000000e+00, gap 0.0000%\n",
      "\n",
      "--- Timetable for class 1 ---\n",
      "Mon period 1: Physics\n",
      "Mon period 2: Math_class1\n",
      "Mon period 3: Biology\n",
      "Tue period 0: History-Geography\n",
      "Tue period 1: Math_class1\n",
      "Tue period 2: Physics\n",
      "Wed period 0: Physics\n",
      "Wed period 1: Philosophy\n",
      "Thu period 0: Biology\n",
      "Thu period 1: History-Geography\n",
      "Thu period 2: PE_class1\n",
      "Thu period 3: Math_class1\n",
      "Fri period 0: Math_class1\n",
      "Fri period 2: English\n",
      "Fri period 3: Biology\n",
      "\n",
      "--- Timetable for class 2 ---\n",
      "Mon period 1: History-Geography\n",
      "Mon period 2: Biology\n",
      "Mon period 3: Math_class2\n",
      "Tue period 2: Biology\n",
      "Tue period 3: Physics\n",
      "Wed period 0: Philosophy\n",
      "Wed period 2: Math_class2\n",
      "Wed period 3: Physics\n",
      "Thu period 1: Math_class2\n",
      "Thu period 2: PE_class2\n",
      "Thu period 3: English\n",
      "Fri period 0: Biology\n",
      "Fri period 1: Math_class2\n",
      "Fri period 2: Physics\n",
      "Fri period 3: History-Geography\n"
     ]
    }
   ],
   "source": [
    "model.optimize()\n",
    "\n",
    "if model.Status == GRB.OPTIMAL or model.Status == GRB.FEASIBLE:\n",
    "    for s in classes:\n",
    "        print(f\"\\n--- Timetable for class {s} ---\")\n",
    "        for t in slots:\n",
    "            for c in courses.keys():\n",
    "                if D[s, c, t].X > 0.5:\n",
    "                    day = [\"Mon\", \"Tue\", \"Wed\", \"Thu\", \"Fri\"][slot_day[t]]\n",
    "                    period = slot_period[t]\n",
    "                    course_name = courses[c][0]\n",
    "                    print(f\"{day} period {period}: {course_name}\")\n",
    "else:\n",
    "    print(\"No feasible solution found.\")"
   ]
  },
  {
   "cell_type": "markdown",
   "id": "ab456e99-7919-4710-98f2-a7d02a47b750",
   "metadata": {},
   "source": [
    "### Τελική Εμφάνιση Προγράμματος σε Πίνακα\n",
    "\n",
    "Χρησιμοποιούμε pandas για να εμφανίσουμε καθαρά το εβδομαδιαίο πρόγραμμα κάθε class."
   ]
  },
  {
   "cell_type": "code",
   "execution_count": 65,
   "id": "57dbb458-7ed1-497b-bde2-b1c1a5c9bdfe",
   "metadata": {},
   "outputs": [
    {
     "name": "stdout",
     "output_type": "stream",
     "text": [
      "\n",
      "--- Timetable for class 1 ---\n"
     ]
    },
    {
     "data": {
      "text/html": [
       "<div>\n",
       "<style scoped>\n",
       "    .dataframe tbody tr th:only-of-type {\n",
       "        vertical-align: middle;\n",
       "    }\n",
       "\n",
       "    .dataframe tbody tr th {\n",
       "        vertical-align: top;\n",
       "    }\n",
       "\n",
       "    .dataframe thead th {\n",
       "        text-align: right;\n",
       "    }\n",
       "</style>\n",
       "<table border=\"1\" class=\"dataframe\">\n",
       "  <thead>\n",
       "    <tr style=\"text-align: right;\">\n",
       "      <th></th>\n",
       "      <th>Mon</th>\n",
       "      <th>Tue</th>\n",
       "      <th>Wed</th>\n",
       "      <th>Thu</th>\n",
       "      <th>Fri</th>\n",
       "    </tr>\n",
       "  </thead>\n",
       "  <tbody>\n",
       "    <tr>\n",
       "      <th>08:00–10:00</th>\n",
       "      <td>-</td>\n",
       "      <td>History-Geography</td>\n",
       "      <td>Physics</td>\n",
       "      <td>Biology</td>\n",
       "      <td>Math_class1</td>\n",
       "    </tr>\n",
       "    <tr>\n",
       "      <th>10:15–12:15</th>\n",
       "      <td>Physics</td>\n",
       "      <td>Math_class1</td>\n",
       "      <td>Philosophy</td>\n",
       "      <td>History-Geography</td>\n",
       "      <td>-</td>\n",
       "    </tr>\n",
       "    <tr>\n",
       "      <th>14:00–16:00</th>\n",
       "      <td>Math_class1</td>\n",
       "      <td>Physics</td>\n",
       "      <td>-</td>\n",
       "      <td>PE_class1</td>\n",
       "      <td>English</td>\n",
       "    </tr>\n",
       "    <tr>\n",
       "      <th>16:15–18:15</th>\n",
       "      <td>Biology</td>\n",
       "      <td>-</td>\n",
       "      <td>-</td>\n",
       "      <td>Math_class1</td>\n",
       "      <td>Biology</td>\n",
       "    </tr>\n",
       "  </tbody>\n",
       "</table>\n",
       "</div>"
      ],
      "text/plain": [
       "                     Mon                Tue         Wed                Thu  \\\n",
       "08:00–10:00            -  History-Geography     Physics            Biology   \n",
       "10:15–12:15      Physics        Math_class1  Philosophy  History-Geography   \n",
       "14:00–16:00  Math_class1            Physics           -          PE_class1   \n",
       "16:15–18:15      Biology                  -           -        Math_class1   \n",
       "\n",
       "                     Fri  \n",
       "08:00–10:00  Math_class1  \n",
       "10:15–12:15            -  \n",
       "14:00–16:00      English  \n",
       "16:15–18:15      Biology  "
      ]
     },
     "metadata": {},
     "output_type": "display_data"
    },
    {
     "name": "stdout",
     "output_type": "stream",
     "text": [
      "\n",
      "--- Timetable for class 2 ---\n"
     ]
    },
    {
     "data": {
      "text/html": [
       "<div>\n",
       "<style scoped>\n",
       "    .dataframe tbody tr th:only-of-type {\n",
       "        vertical-align: middle;\n",
       "    }\n",
       "\n",
       "    .dataframe tbody tr th {\n",
       "        vertical-align: top;\n",
       "    }\n",
       "\n",
       "    .dataframe thead th {\n",
       "        text-align: right;\n",
       "    }\n",
       "</style>\n",
       "<table border=\"1\" class=\"dataframe\">\n",
       "  <thead>\n",
       "    <tr style=\"text-align: right;\">\n",
       "      <th></th>\n",
       "      <th>Mon</th>\n",
       "      <th>Tue</th>\n",
       "      <th>Wed</th>\n",
       "      <th>Thu</th>\n",
       "      <th>Fri</th>\n",
       "    </tr>\n",
       "  </thead>\n",
       "  <tbody>\n",
       "    <tr>\n",
       "      <th>08:00–10:00</th>\n",
       "      <td>-</td>\n",
       "      <td>-</td>\n",
       "      <td>Philosophy</td>\n",
       "      <td>-</td>\n",
       "      <td>Biology</td>\n",
       "    </tr>\n",
       "    <tr>\n",
       "      <th>10:15–12:15</th>\n",
       "      <td>History-Geography</td>\n",
       "      <td>-</td>\n",
       "      <td>-</td>\n",
       "      <td>Math_class2</td>\n",
       "      <td>Math_class2</td>\n",
       "    </tr>\n",
       "    <tr>\n",
       "      <th>14:00–16:00</th>\n",
       "      <td>Biology</td>\n",
       "      <td>Biology</td>\n",
       "      <td>Math_class2</td>\n",
       "      <td>PE_class2</td>\n",
       "      <td>Physics</td>\n",
       "    </tr>\n",
       "    <tr>\n",
       "      <th>16:15–18:15</th>\n",
       "      <td>Math_class2</td>\n",
       "      <td>Physics</td>\n",
       "      <td>Physics</td>\n",
       "      <td>English</td>\n",
       "      <td>History-Geography</td>\n",
       "    </tr>\n",
       "  </tbody>\n",
       "</table>\n",
       "</div>"
      ],
      "text/plain": [
       "                           Mon      Tue          Wed          Thu  \\\n",
       "08:00–10:00                  -        -   Philosophy            -   \n",
       "10:15–12:15  History-Geography        -            -  Math_class2   \n",
       "14:00–16:00            Biology  Biology  Math_class2    PE_class2   \n",
       "16:15–18:15        Math_class2  Physics      Physics      English   \n",
       "\n",
       "                           Fri  \n",
       "08:00–10:00            Biology  \n",
       "10:15–12:15        Math_class2  \n",
       "14:00–16:00            Physics  \n",
       "16:15–18:15  History-Geography  "
      ]
     },
     "metadata": {},
     "output_type": "display_data"
    }
   ],
   "source": [
    "import pandas as pd\n",
    "\n",
    "days = [\"Mon\", \"Tue\", \"Wed\", \"Thu\", \"Fri\"]\n",
    "periods = [\"08:00–10:00\", \"10:15–12:15\", \"14:00–16:00\", \"16:15–18:15\"]\n",
    "\n",
    "for s in classes:\n",
    "    table = pd.DataFrame(index=periods, columns=days)\n",
    "    for t in slots:\n",
    "        for c in courses.keys():\n",
    "            if D[s, c, t].X > 0.5:\n",
    "                day = days[slot_day[t]]\n",
    "                period = periods[slot_period[t]]\n",
    "                course_name = courses[c][0]\n",
    "                table.at[period, day] = course_name\n",
    "    print(f\"\\n--- Timetable for class {s} ---\")\n",
    "    display(table.fillna(\"-\"))"
   ]
  },
  {
   "cell_type": "markdown",
   "id": "dcde2bb7-0fce-4c97-89ab-0ff727598c72",
   "metadata": {},
   "source": [
    "### Βέλτιστη Χωροθέτηση Αποθηκών\n",
    "\n",
    "Ελαχιστοποιούμε το συνολικό κόστος που αποτελείται από:\n",
    "\n",
    "- Το κόστος ανοίγματος των αποθηκών που επιλέγονται\n",
    "- Το κόστος μεταφοράς των προϊόντων από τις αποθήκες στους πελάτες\n",
    "\n",
    "Χρησιμοποιούμε μεικτό γραμμικό προγραμματισμό με το Gurobi για την εύρεση της βέλτιστης λύσης."
   ]
  },
  {
   "cell_type": "markdown",
   "id": "c7db4706-0d01-498c-9aaf-cb7a0b516e3f",
   "metadata": {},
   "source": [
    "### Δημιουργία Νέου Μοντέλου\n",
    "\n",
    "Ορίζουμε Gurobi μοντέλο "
   ]
  },
  {
   "cell_type": "code",
   "execution_count": 66,
   "id": "e53fc8dc-6c6d-4a6a-8f3d-b1d30459d86d",
   "metadata": {},
   "outputs": [],
   "source": [
    "model2 = gp.Model(\"WarehouseLocation\")"
   ]
  },
  {
   "cell_type": "markdown",
   "id": "5e5dc6b2-9d7a-408f-87b9-dc472ca6b644",
   "metadata": {},
   "source": [
    "### Ορισμός Συνόλων\n",
    "\n",
    "Ορίζουμε τα βασικά σύνολα του προβλήματος:\n",
    "\n",
    "- 12 αποθήκες: αριθμημένες από 1 έως 12\n",
    "- 12 κέντρα πώλησης: αριθμημένα επίσης από 1 έως 12"
   ]
  },
  {
   "cell_type": "code",
   "execution_count": 67,
   "id": "9d4a8973-6a3b-4743-b89b-decc27dd1b49",
   "metadata": {},
   "outputs": [],
   "source": [
    "warehouses = list(range(1, 13))\n",
    "centers = list(range(1, 13))"
   ]
  },
  {
   "cell_type": "markdown",
   "id": "1ba95311-1521-43e5-b191-5c794e180886",
   "metadata": {},
   "source": [
    "### Ορισμός Παραμέτρων\n",
    "\n",
    "Καταχωρούμε:\n",
    "\n",
    "- Κόστος ανοίγματος και χωρητικότητα για κάθε αποθήκη (Πίνακας 3)\n",
    "- Ζήτηση κάθε κέντρου πώλησης (Πίνακας 4)"
   ]
  },
  {
   "cell_type": "code",
   "execution_count": 68,
   "id": "ead0051d-da7a-4c93-8910-e7612942693b",
   "metadata": {},
   "outputs": [],
   "source": [
    "fixed_cost = {\n",
    "    1: 3500, 2: 9000, 3: 10000, 4: 4000, 5: 3000, 6: 9000,\n",
    "    7: 9000, 8: 3000, 9: 4000, 10: 10000, 11: 9000, 12: 3500\n",
    "}\n",
    "\n",
    "capacity = {\n",
    "    1: 300, 2: 250, 3: 100, 4: 180, 5: 275, 6: 300,\n",
    "    7: 200, 8: 220, 9: 270, 10: 250, 11: 230, 12: 180\n",
    "}\n",
    "\n",
    "demand = {\n",
    "    1: 120, 2: 80, 3: 75, 4: 100, 5: 110, 6: 100,\n",
    "    7: 90, 8: 60, 9: 30, 10: 150, 11: 95, 12: 120\n",
    "}"
   ]
  },
  {
   "cell_type": "markdown",
   "id": "293d8a3f-a712-477d-b5b5-b86b0db6b1bc",
   "metadata": {},
   "source": [
    "### Κόστος Μεταφοράς ανά Τόνο\n",
    "\n",
    "Ορίζουμε τον πίνακα με τα συνολικά κόστη μεταφοράς από κάθε αποθήκη σε κάθε κέντρο πώλησης, όπως δίνεται στην εκφώνηση.  \n",
    "Με βάση τη ζήτηση κάθε κέντρου, υπολογίζουμε το κόστος ανά τόνο με απλή διαίρεση."
   ]
  },
  {
   "cell_type": "code",
   "execution_count": 69,
   "id": "ffa31624-9502-4629-aa22-b94c2b924820",
   "metadata": {},
   "outputs": [],
   "source": [
    "full_cost_matrix = [\n",
    "    [100, 80, 50, 50, 60, 120, 90, 60, 70, 65, 110, 100],\n",
    "    [120, 90, 60, 70, 65, 110, 140, 110, 80, 60, 75, 130],\n",
    "    [100, 80, 70, 100, 75, 130, 130, 90, 80, 120, 80, 150],\n",
    "    [160, 125, 100, 90, 100, None, None, 130, 60, 75, 65, 100],\n",
    "    [190, 150, None, None, None, 50, 50, 45, 60, 100, 100, 100],\n",
    "    [200, 180, 150, None, None, 90, 90, 50, 60, 75, 100, 90],\n",
    "    [200, 180, 150, None, None, 80, 60, 50, 70, 60, 70, 90],\n",
    "    [120, 90, 70, None, None, 70, 60, 60, 60, 100, 80, 100],\n",
    "    [140, 110, 90, None, None, 100, 125, 100, 80, 75, 100, 90],\n",
    "    [160, 125, 100, None, None, None, None, 150, None, 100, 80, None],\n",
    "    [200, 180, 150, None, None, None, None, None, 100, 50, 60, 90],\n",
    "    [200, 180, 150, None, None, None, None, None, None, 60, 80, 100]\n",
    "]\n",
    "\n",
    "transport_cost = {}\n",
    "\n",
    "for w in range(12):\n",
    "    for c in range(12):\n",
    "        cost = full_cost_matrix[w][c]\n",
    "        if cost is not None:\n",
    "            transport_cost[(w + 1, c + 1)] = round(cost / demand[c + 1], 5)\n"
   ]
  },
  {
   "cell_type": "markdown",
   "id": "985a8cb9-d539-46c9-aeba-a291b9ed15b2",
   "metadata": {},
   "source": [
    "### Μεταβλητές Απόφασης\n",
    "\n",
    "Ορίζουμε δύο τύπους μεταβλητών:\n",
    "\n",
    "- `y[j]`: είναι 1 αν ανοίξει η αποθήκη j, διαφορετικά 0\n",
    "- `x[j, i]`: ποσότητα που αποστέλλεται από την αποθήκη j στο κέντρο i"
   ]
  },
  {
   "cell_type": "code",
   "execution_count": 70,
   "id": "78bb62ba-4b09-407d-9695-74067fb453b8",
   "metadata": {},
   "outputs": [],
   "source": [
    "y = model2.addVars(warehouses, vtype=GRB.BINARY, name=\"Open\")\n",
    "x = model2.addVars(warehouses, centers, vtype=GRB.CONTINUOUS, name=\"Flow\")"
   ]
  },
  {
   "cell_type": "markdown",
   "id": "95112952-d25c-43be-ab74-fc2239ad2b7d",
   "metadata": {},
   "source": [
    "### Αντικειμενικός Σκοπός\n",
    "\n",
    "Ελαχιστοποίηση κόστους"
   ]
  },
  {
   "cell_type": "code",
   "execution_count": 71,
   "id": "fa7a9a34-2fe5-4233-989a-a6ea424f8c79",
   "metadata": {},
   "outputs": [],
   "source": [
    "model2.setObjective(\n",
    "    gp.quicksum(fixed_cost[j] * y[j] for j in warehouses) +\n",
    "    gp.quicksum(transport_cost[j, i] * x[j, i]\n",
    "                for j, i in transport_cost.keys()),\n",
    "    GRB.MINIMIZE\n",
    ")"
   ]
  },
  {
   "cell_type": "markdown",
   "id": "acf15e7c-4aca-4bd7-a700-cc44cd45aaa6",
   "metadata": {},
   "source": [
    "### Περιορισμός: Κάλυψη Ζήτησης\n",
    "\n",
    "Κάθε κέντρο πώλησης πρέπει να λάβει ακριβώς τη ζητούμενη ποσότητα από τις αποθήκες."
   ]
  },
  {
   "cell_type": "code",
   "execution_count": 72,
   "id": "aacf0cef-c92d-485e-ad6d-a952180a12e0",
   "metadata": {},
   "outputs": [],
   "source": [
    "for i in centers:\n",
    "    model2.addConstr(\n",
    "        gp.quicksum(x[j, i] for j in warehouses if (j, i) in transport_cost) == demand[i],\n",
    "        name=f\"Demand_{i}\"\n",
    "    )"
   ]
  },
  {
   "cell_type": "markdown",
   "id": "9b8b87c5-de57-4a1a-9638-8b62eae9a9fc",
   "metadata": {},
   "source": [
    "### Περιορισμός: Χωρητικότητα Αποθήκης\n",
    "\n",
    "Η συνολική ποσότητα που αποστέλλει κάθε αποθήκη δεν επιτρέπεται να ξεπερνά τη χωρητικότητά της.  \n",
    "Ο περιορισμός ενεργοποιείται μόνο αν η αποθήκη έχει επιλεγεί (δηλαδή y[j] = 1)."
   ]
  },
  {
   "cell_type": "code",
   "execution_count": 73,
   "id": "ba7f84ac-dddd-44c8-8dbc-0c348bc44bfb",
   "metadata": {},
   "outputs": [],
   "source": [
    "for j in warehouses:\n",
    "    model2.addConstr(\n",
    "        gp.quicksum(x[j, i] for i in centers if (j, i) in transport_cost) <= capacity[j] * y[j],\n",
    "        name=f\"Capacity_{j}\"\n",
    "    )"
   ]
  },
  {
   "cell_type": "markdown",
   "id": "efbee984-1caa-4d5b-848a-cb83d81b4a2d",
   "metadata": {},
   "source": [
    "### Επίλυση και Εμφάνιση Αποτελεσμάτων\n",
    "\n",
    "Κάνουμε optimize το μοντέλο και εμφανίζουμε:\n",
    "\n",
    "- Ποιες αποθήκες θα ανοίξουν\n",
    "- Τι ποσότητα στέλνει κάθε αποθήκη σε κάθε κέντρο πώλησης"
   ]
  },
  {
   "cell_type": "code",
   "execution_count": 74,
   "id": "cdeaa493-0bae-478e-a6c2-31b6c3779f44",
   "metadata": {},
   "outputs": [
    {
     "name": "stdout",
     "output_type": "stream",
     "text": [
      "Gurobi Optimizer version 12.0.2 build v12.0.2rc0 (win64 - Windows 11.0 (26100.2))\n",
      "\n",
      "CPU model: 13th Gen Intel(R) Core(TM) i9-13900H, instruction set [SSE2|AVX|AVX2]\n",
      "Thread count: 14 physical cores, 20 logical processors, using up to 20 threads\n",
      "\n",
      "Optimize a model with 24 rows, 156 columns and 240 nonzeros\n",
      "Model fingerprint: 0x6d64740e\n",
      "Variable types: 144 continuous, 12 integer (12 binary)\n",
      "Coefficient statistics:\n",
      "  Matrix range     [1e+00, 3e+02]\n",
      "  Objective range  [3e-01, 1e+04]\n",
      "  Bounds range     [1e+00, 1e+00]\n",
      "  RHS range        [3e+01, 2e+02]\n",
      "Found heuristic solution: objective 69173.334150\n",
      "Presolve removed 0 rows and 30 columns\n",
      "Presolve time: 0.00s\n",
      "Presolved: 24 rows, 126 columns, 240 nonzeros\n",
      "Variable types: 114 continuous, 12 integer (12 binary)\n",
      "\n",
      "Root relaxation: objective 1.558139e+04, 45 iterations, 0.00 seconds (0.00 work units)\n",
      "\n",
      "    Nodes    |    Current Node    |     Objective Bounds      |     Work\n",
      " Expl Unexpl |  Obj  Depth IntInf | Incumbent    BestBd   Gap | It/Node Time\n",
      "\n",
      "     0     0 15581.3894    0    1 69173.3342 15581.3894  77.5%     -    0s\n",
      "H    0     0                    17817.500550 15581.3894  12.6%     -    0s\n",
      "     0     0 16102.2968    0    1 17817.5006 16102.2968  9.63%     -    0s\n",
      "     0     0 16102.2968    0    1 17817.5006 16102.2968  9.63%     -    0s\n",
      "H    0     0                    17806.000550 16102.2968  9.57%     -    0s\n",
      "     0     0 16249.3187    0    1 17806.0005 16249.3187  8.74%     -    0s\n",
      "H    0     0                    17797.499650 16298.7894  8.42%     -    0s\n",
      "\n",
      "Cutting planes:\n",
      "  Gomory: 2\n",
      "  MIR: 3\n",
      "  Flow cover: 2\n",
      "\n",
      "Explored 1 nodes (67 simplex iterations) in 0.09 seconds (0.00 work units)\n",
      "Thread count was 20 (of 20 available processors)\n",
      "\n",
      "Solution count 4: 17797.5 17806 21923.9 69173.3 \n",
      "\n",
      "Optimal solution found (tolerance 1.00e-04)\n",
      "Best objective 1.779749965000e+04, best bound 1.779749965000e+04, gap 0.0000%\n",
      "Open Warehouses:\n",
      "  - Warehouse 1\n",
      "  - Warehouse 4\n",
      "  - Warehouse 5\n",
      "  - Warehouse 8\n",
      "  - Warehouse 12\n",
      "\n",
      "Shipments:\n",
      "  From warehouse 1 to center 1: 15.0 tons\n",
      "  From warehouse 1 to center 3: 75.0 tons\n",
      "  From warehouse 1 to center 4: 100.0 tons\n",
      "  From warehouse 1 to center 5: 110.0 tons\n",
      "  From warehouse 4 to center 11: 95.0 tons\n",
      "  From warehouse 4 to center 12: 60.0 tons\n",
      "  From warehouse 5 to center 6: 100.0 tons\n",
      "  From warehouse 5 to center 7: 90.0 tons\n",
      "  From warehouse 5 to center 8: 60.0 tons\n",
      "  From warehouse 5 to center 12: 25.0 tons\n",
      "  From warehouse 8 to center 1: 105.0 tons\n",
      "  From warehouse 8 to center 2: 80.0 tons\n",
      "  From warehouse 8 to center 9: 30.0 tons\n",
      "  From warehouse 8 to center 12: 5.0 tons\n",
      "  From warehouse 12 to center 10: 150.0 tons\n",
      "  From warehouse 12 to center 12: 30.0 tons\n"
     ]
    }
   ],
   "source": [
    "model2.optimize()\n",
    "\n",
    "if model2.Status == GRB.OPTIMAL or model2.Status == GRB.FEASIBLE:\n",
    "    print(\"Open Warehouses:\")\n",
    "    for j in warehouses:\n",
    "        if y[j].X > 0.5:\n",
    "            print(f\"  - Warehouse {j}\")\n",
    "\n",
    "    print(\"\\nShipments:\")\n",
    "    for j, i in transport_cost:\n",
    "        quantity = x[j, i].X\n",
    "        if quantity > 1e-6:\n",
    "            print(f\"  From warehouse {j} to center {i}: {quantity} tons\")\n",
    "else:\n",
    "    print(\"No feasible solution found.\")"
   ]
  },
  {
   "cell_type": "markdown",
   "id": "80cb408e-fd65-4cff-9c51-89994b7317fb",
   "metadata": {},
   "source": [
    "### Εμφάνιση Αποτελεσμάτων σε Πίνακα\n",
    "\n",
    "Παρουσιάζουμε τις αποστολές από τις αποθήκες προς τα κέντρα πώλησης σε μορφή πίνακα για πιο εύκολη ανάγνωση."
   ]
  },
  {
   "cell_type": "code",
   "execution_count": 75,
   "id": "28585100-9cb1-4553-93ea-538eed8dc845",
   "metadata": {},
   "outputs": [
    {
     "data": {
      "text/html": [
       "<div>\n",
       "<style scoped>\n",
       "    .dataframe tbody tr th:only-of-type {\n",
       "        vertical-align: middle;\n",
       "    }\n",
       "\n",
       "    .dataframe tbody tr th {\n",
       "        vertical-align: top;\n",
       "    }\n",
       "\n",
       "    .dataframe thead th {\n",
       "        text-align: right;\n",
       "    }\n",
       "</style>\n",
       "<table border=\"1\" class=\"dataframe\">\n",
       "  <thead>\n",
       "    <tr style=\"text-align: right;\">\n",
       "      <th>Warehouse</th>\n",
       "      <th>1</th>\n",
       "      <th>2</th>\n",
       "      <th>3</th>\n",
       "      <th>4</th>\n",
       "      <th>5</th>\n",
       "      <th>6</th>\n",
       "      <th>7</th>\n",
       "      <th>8</th>\n",
       "      <th>9</th>\n",
       "      <th>10</th>\n",
       "      <th>11</th>\n",
       "      <th>12</th>\n",
       "    </tr>\n",
       "    <tr>\n",
       "      <th>Center</th>\n",
       "      <th></th>\n",
       "      <th></th>\n",
       "      <th></th>\n",
       "      <th></th>\n",
       "      <th></th>\n",
       "      <th></th>\n",
       "      <th></th>\n",
       "      <th></th>\n",
       "      <th></th>\n",
       "      <th></th>\n",
       "      <th></th>\n",
       "      <th></th>\n",
       "    </tr>\n",
       "  </thead>\n",
       "  <tbody>\n",
       "    <tr>\n",
       "      <th>1</th>\n",
       "      <td>15.0</td>\n",
       "      <td>0.0</td>\n",
       "      <td>0.0</td>\n",
       "      <td>0.0</td>\n",
       "      <td>0.0</td>\n",
       "      <td>0.0</td>\n",
       "      <td>0.0</td>\n",
       "      <td>105.0</td>\n",
       "      <td>0.0</td>\n",
       "      <td>0.0</td>\n",
       "      <td>0.0</td>\n",
       "      <td>0.0</td>\n",
       "    </tr>\n",
       "    <tr>\n",
       "      <th>2</th>\n",
       "      <td>0.0</td>\n",
       "      <td>0.0</td>\n",
       "      <td>0.0</td>\n",
       "      <td>0.0</td>\n",
       "      <td>0.0</td>\n",
       "      <td>0.0</td>\n",
       "      <td>0.0</td>\n",
       "      <td>80.0</td>\n",
       "      <td>0.0</td>\n",
       "      <td>0.0</td>\n",
       "      <td>0.0</td>\n",
       "      <td>0.0</td>\n",
       "    </tr>\n",
       "    <tr>\n",
       "      <th>3</th>\n",
       "      <td>75.0</td>\n",
       "      <td>0.0</td>\n",
       "      <td>0.0</td>\n",
       "      <td>0.0</td>\n",
       "      <td>0.0</td>\n",
       "      <td>0.0</td>\n",
       "      <td>0.0</td>\n",
       "      <td>0.0</td>\n",
       "      <td>0.0</td>\n",
       "      <td>0.0</td>\n",
       "      <td>0.0</td>\n",
       "      <td>0.0</td>\n",
       "    </tr>\n",
       "    <tr>\n",
       "      <th>4</th>\n",
       "      <td>100.0</td>\n",
       "      <td>0.0</td>\n",
       "      <td>0.0</td>\n",
       "      <td>0.0</td>\n",
       "      <td>0.0</td>\n",
       "      <td>0.0</td>\n",
       "      <td>0.0</td>\n",
       "      <td>0.0</td>\n",
       "      <td>0.0</td>\n",
       "      <td>0.0</td>\n",
       "      <td>0.0</td>\n",
       "      <td>0.0</td>\n",
       "    </tr>\n",
       "    <tr>\n",
       "      <th>5</th>\n",
       "      <td>110.0</td>\n",
       "      <td>0.0</td>\n",
       "      <td>0.0</td>\n",
       "      <td>0.0</td>\n",
       "      <td>0.0</td>\n",
       "      <td>0.0</td>\n",
       "      <td>0.0</td>\n",
       "      <td>0.0</td>\n",
       "      <td>0.0</td>\n",
       "      <td>0.0</td>\n",
       "      <td>0.0</td>\n",
       "      <td>0.0</td>\n",
       "    </tr>\n",
       "    <tr>\n",
       "      <th>6</th>\n",
       "      <td>0.0</td>\n",
       "      <td>0.0</td>\n",
       "      <td>0.0</td>\n",
       "      <td>0.0</td>\n",
       "      <td>100.0</td>\n",
       "      <td>0.0</td>\n",
       "      <td>0.0</td>\n",
       "      <td>0.0</td>\n",
       "      <td>0.0</td>\n",
       "      <td>0.0</td>\n",
       "      <td>0.0</td>\n",
       "      <td>0.0</td>\n",
       "    </tr>\n",
       "    <tr>\n",
       "      <th>7</th>\n",
       "      <td>0.0</td>\n",
       "      <td>0.0</td>\n",
       "      <td>0.0</td>\n",
       "      <td>0.0</td>\n",
       "      <td>90.0</td>\n",
       "      <td>0.0</td>\n",
       "      <td>0.0</td>\n",
       "      <td>0.0</td>\n",
       "      <td>0.0</td>\n",
       "      <td>0.0</td>\n",
       "      <td>0.0</td>\n",
       "      <td>0.0</td>\n",
       "    </tr>\n",
       "    <tr>\n",
       "      <th>8</th>\n",
       "      <td>0.0</td>\n",
       "      <td>0.0</td>\n",
       "      <td>0.0</td>\n",
       "      <td>0.0</td>\n",
       "      <td>60.0</td>\n",
       "      <td>0.0</td>\n",
       "      <td>0.0</td>\n",
       "      <td>0.0</td>\n",
       "      <td>0.0</td>\n",
       "      <td>0.0</td>\n",
       "      <td>0.0</td>\n",
       "      <td>0.0</td>\n",
       "    </tr>\n",
       "    <tr>\n",
       "      <th>9</th>\n",
       "      <td>0.0</td>\n",
       "      <td>0.0</td>\n",
       "      <td>0.0</td>\n",
       "      <td>0.0</td>\n",
       "      <td>0.0</td>\n",
       "      <td>0.0</td>\n",
       "      <td>0.0</td>\n",
       "      <td>30.0</td>\n",
       "      <td>0.0</td>\n",
       "      <td>0.0</td>\n",
       "      <td>0.0</td>\n",
       "      <td>0.0</td>\n",
       "    </tr>\n",
       "    <tr>\n",
       "      <th>10</th>\n",
       "      <td>0.0</td>\n",
       "      <td>0.0</td>\n",
       "      <td>0.0</td>\n",
       "      <td>0.0</td>\n",
       "      <td>0.0</td>\n",
       "      <td>0.0</td>\n",
       "      <td>0.0</td>\n",
       "      <td>0.0</td>\n",
       "      <td>0.0</td>\n",
       "      <td>0.0</td>\n",
       "      <td>0.0</td>\n",
       "      <td>150.0</td>\n",
       "    </tr>\n",
       "    <tr>\n",
       "      <th>11</th>\n",
       "      <td>0.0</td>\n",
       "      <td>0.0</td>\n",
       "      <td>0.0</td>\n",
       "      <td>95.0</td>\n",
       "      <td>0.0</td>\n",
       "      <td>0.0</td>\n",
       "      <td>0.0</td>\n",
       "      <td>0.0</td>\n",
       "      <td>0.0</td>\n",
       "      <td>0.0</td>\n",
       "      <td>0.0</td>\n",
       "      <td>0.0</td>\n",
       "    </tr>\n",
       "    <tr>\n",
       "      <th>12</th>\n",
       "      <td>0.0</td>\n",
       "      <td>0.0</td>\n",
       "      <td>0.0</td>\n",
       "      <td>60.0</td>\n",
       "      <td>25.0</td>\n",
       "      <td>0.0</td>\n",
       "      <td>0.0</td>\n",
       "      <td>5.0</td>\n",
       "      <td>0.0</td>\n",
       "      <td>0.0</td>\n",
       "      <td>0.0</td>\n",
       "      <td>30.0</td>\n",
       "    </tr>\n",
       "  </tbody>\n",
       "</table>\n",
       "</div>"
      ],
      "text/plain": [
       "Warehouse     1    2    3     4      5    6    7      8    9    10   11     12\n",
       "Center                                                                        \n",
       "1           15.0  0.0  0.0   0.0    0.0  0.0  0.0  105.0  0.0  0.0  0.0    0.0\n",
       "2            0.0  0.0  0.0   0.0    0.0  0.0  0.0   80.0  0.0  0.0  0.0    0.0\n",
       "3           75.0  0.0  0.0   0.0    0.0  0.0  0.0    0.0  0.0  0.0  0.0    0.0\n",
       "4          100.0  0.0  0.0   0.0    0.0  0.0  0.0    0.0  0.0  0.0  0.0    0.0\n",
       "5          110.0  0.0  0.0   0.0    0.0  0.0  0.0    0.0  0.0  0.0  0.0    0.0\n",
       "6            0.0  0.0  0.0   0.0  100.0  0.0  0.0    0.0  0.0  0.0  0.0    0.0\n",
       "7            0.0  0.0  0.0   0.0   90.0  0.0  0.0    0.0  0.0  0.0  0.0    0.0\n",
       "8            0.0  0.0  0.0   0.0   60.0  0.0  0.0    0.0  0.0  0.0  0.0    0.0\n",
       "9            0.0  0.0  0.0   0.0    0.0  0.0  0.0   30.0  0.0  0.0  0.0    0.0\n",
       "10           0.0  0.0  0.0   0.0    0.0  0.0  0.0    0.0  0.0  0.0  0.0  150.0\n",
       "11           0.0  0.0  0.0  95.0    0.0  0.0  0.0    0.0  0.0  0.0  0.0    0.0\n",
       "12           0.0  0.0  0.0  60.0   25.0  0.0  0.0    5.0  0.0  0.0  0.0   30.0"
      ]
     },
     "metadata": {},
     "output_type": "display_data"
    },
    {
     "name": "stdout",
     "output_type": "stream",
     "text": [
      "\n",
      "Open Warehouses: [1, 4, 5, 8, 12]\n"
     ]
    }
   ],
   "source": [
    "import pandas as pd\n",
    "\n",
    "shipment_table = pd.DataFrame(index=centers, columns=warehouses)\n",
    "\n",
    "for j, i in transport_cost:\n",
    "    shipment_table.at[i, j] = round(x[j, i].X, 2)\n",
    "\n",
    "shipment_table = shipment_table.infer_objects(copy=False)\n",
    "shipment_table = shipment_table.fillna(0).astype(float)\n",
    "\n",
    "shipment_table.index.name = \"Center\"\n",
    "shipment_table.columns.name = \"Warehouse\"\n",
    "display(shipment_table)\n",
    "\n",
    "open_warehouses = [j for j in warehouses if y[j].X > 0.5]\n",
    "print(\"\\nOpen Warehouses:\", open_warehouses)"
   ]
  }
 ],
 "metadata": {
  "kernelspec": {
   "display_name": "Python 3 (ipykernel)",
   "language": "python",
   "name": "python3"
  },
  "language_info": {
   "codemirror_mode": {
    "name": "ipython",
    "version": 3
   },
   "file_extension": ".py",
   "mimetype": "text/x-python",
   "name": "python",
   "nbconvert_exporter": "python",
   "pygments_lexer": "ipython3",
   "version": "3.13.5"
  }
 },
 "nbformat": 4,
 "nbformat_minor": 5
}
